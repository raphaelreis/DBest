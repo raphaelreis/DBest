{
 "cells": [
  {
   "cell_type": "markdown",
   "metadata": {},
   "source": [
    "# Sensitivity analysis"
   ]
  },
  {
   "cell_type": "code",
   "execution_count": 1,
   "metadata": {},
   "outputs": [],
   "source": [
    "import json\n",
    "import numpy as np\n",
    "import matplotlib.pyplot as plt"
   ]
  },
  {
   "cell_type": "code",
   "execution_count": 25,
   "metadata": {},
   "outputs": [],
   "source": [
    "def gen_range(mini, maxi, percentage, number=1):\n",
    "    if percentage < 1.0:\n",
    "        h = (maxi - mini) * percentage\n",
    "        l = np.random.uniform(mini, maxi-h, number).tolist()\n",
    "        return list(map(lambda x: (x, x + h), l))\n",
    "    else:\n",
    "        return [(mini, maxi) for i in range(number)]\n",
    "\n",
    "# def query_gen(agg_funs, mini, maxi, percentage):\n",
    "#     agg_fun = agg_funs[np.random.randint(len(agg_funs))]\n",
    "#     a, b = gen_range(mini, maxi, percentage)\n",
    "#     return agg_fun, a, b"
   ]
  },
  {
   "cell_type": "markdown",
   "metadata": {},
   "source": [
    "## Build queries"
   ]
  },
  {
   "cell_type": "code",
   "execution_count": 26,
   "metadata": {},
   "outputs": [
    {
     "data": {
      "text/plain": [
       "(1.0, 200.0)"
      ]
     },
     "execution_count": 26,
     "metadata": {},
     "output_type": "execute_result"
    }
   ],
   "source": [
    "af = [\"COUNT\", \"SUM\", \"AVG\"]\n",
    "mini = 1.0\n",
    "maxi = 200.0\n",
    "mini, maxi"
   ]
  },
  {
   "cell_type": "code",
   "execution_count": 38,
   "metadata": {},
   "outputs": [],
   "source": [
    "queries_per_af = 15\n",
    "range_percent = 0.1\n",
    "queries = {\n",
    "    af[0]: gen_range(mini, maxi, range_percent, queries_per_af),\n",
    "    af[1]: gen_range(mini, maxi, range_percent, queries_per_af),\n",
    "    af[2]: gen_range(mini, maxi, range_percent, queries_per_af)\n",
    "}\n",
    "  \n",
    "# Writing to sample.json \n",
    "json_queries = json.dumps(queries) \n",
    "with open(\"../../../experiments/sensitivity_analysis_sampleSize_queries.json\", \"w\") as outfile: \n",
    "    outfile.write(json_queries) "
   ]
  },
  {
   "cell_type": "markdown",
   "metadata": {},
   "source": [
    "## Query range queries"
   ]
  },
  {
   "cell_type": "code",
   "execution_count": 28,
   "metadata": {},
   "outputs": [],
   "source": [
    "queries_per_af = 15\n",
    "#####\n",
    "range_percent = 0.001\n",
    "#####\n",
    "queries = {\n",
    "    af[0]: gen_range(mini, maxi, range_percent, queries_per_af),\n",
    "    af[1]: gen_range(mini, maxi, range_percent, queries_per_af),\n",
    "    af[2]: gen_range(mini, maxi, range_percent, queries_per_af)\n",
    "}\n",
    "  \n",
    "# Writing to sample.json \n",
    "json_queries = json.dumps(queries) \n",
    "with open(\"../../../experiments/sensitivity_analysis_queryRange{}_queries.json\".format(range_percent), \"w\") as outfile: \n",
    "    outfile.write(json_queries) \n",
    "    \n",
    "    "
   ]
  },
  {
   "cell_type": "markdown",
   "metadata": {},
   "source": [
    "# Query Analysis"
   ]
  },
  {
   "cell_type": "markdown",
   "metadata": {},
   "source": [
    "## Start and End"
   ]
  },
  {
   "cell_type": "code",
   "execution_count": 33,
   "metadata": {},
   "outputs": [
    {
     "data": {
      "image/png": "[encoded data removed]",
      "text/plain": [
       "<Figure size 1440x432 with 2 Axes>"
      ]
     },
     "metadata": {
      "needs_background": "light"
     },
     "output_type": "display_data"
    }
   ],
   "source": [
    "l = gen_range(mini, maxi, 0.01, 1000)\n",
    "start = list(map(lambda x: x[0], l))\n",
    "end = list(map(lambda x: x[1], l))\n",
    "fig, axes = plt.subplots(1, 2, figsize=(20, 6))\n",
    "axes[0].hist(start, bins = 20)\n",
    "axes[1].hist(end, bins=20)\n",
    "plt.show()"
   ]
  },
  {
   "cell_type": "markdown",
   "metadata": {},
   "source": [
    "## Range"
   ]
  },
  {
   "cell_type": "code",
   "execution_count": 34,
   "metadata": {},
   "outputs": [
    {
     "data": {
      "text/plain": [
       "[0.19899999999999807,\n",
       " 0.19900000000001228,\n",
       " 0.19899999999999807,\n",
       " 0.19899999999999807,\n",
       " 0.19900000000001228,\n",
       " 0.19899999999999807,\n",
       " 0.19900000000000162,\n",
       " 0.19899999999999807,\n",
       " 0.19900000000001228,\n",
       " 0.19900000000001228]"
      ]
     },
     "execution_count": 34,
     "metadata": {},
     "output_type": "execute_result"
    }
   ],
   "source": [
    "l = gen_range(mini, maxi, range_percent, 10)\n",
    "ranges = list(map(lambda x: x[1] - x[0], l))\n",
    "ranges"
   ]
  }
 ],
 "metadata": {
  "kernelspec": {
   "display_name": "Python [conda env:ada] *",
   "language": "python",
   "name": "conda-env-ada-py"
  },
  "language_info": {
   "codemirror_mode": {
    "name": "ipython",
    "version": 3
   },
   "file_extension": ".py",
   "mimetype": "text/x-python",
   "name": "python",
   "nbconvert_exporter": "python",
   "pygments_lexer": "ipython3",
   "version": "3.7.6"
  }
 },
 "nbformat": 4,
 "nbformat_minor": 4
}
