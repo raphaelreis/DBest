{
 "cells": [
  {
   "cell_type": "markdown",
   "metadata": {},
   "source": [
    "# Sensitivity analysis"
   ]
  },
  {
   "cell_type": "code",
   "execution_count": 1,
   "metadata": {},
   "outputs": [],
   "source": [
    "import numpy as np\n",
    "from pyspark.sql import SparkSession\n",
    "import pyspark.sql.functions as F\n",
    "from pyspark.sql.types import DoubleType\n",
    "import json\n",
    "import matplotlib.pyplot as plt"
   ]
  },
  {
   "cell_type": "code",
   "execution_count": 2,
   "metadata": {},
   "outputs": [],
   "source": [
    "spark = SparkSession \\\n",
    "            .Builder() \\\n",
    "            .master(\"local\") \\\n",
    "            .getOrCreate()"
   ]
  },
  {
   "cell_type": "code",
   "execution_count": 3,
   "metadata": {},
   "outputs": [
    {
     "data": {
      "text/html": [
       "\n",
       "            <div>\n",
       "                <p><b>SparkSession - in-memory</b></p>\n",
       "                \n",
       "        <div>\n",
       "            <p><b>SparkContext</b></p>\n",
       "\n",
       "            <p><a href=\"http://localhost:4041\">Spark UI</a></p>\n",
       "\n",
       "            <dl>\n",
       "              <dt>Version</dt>\n",
       "                <dd><code>v2.4.1</code></dd>\n",
       "              <dt>Master</dt>\n",
       "                <dd><code>local</code></dd>\n",
       "              <dt>AppName</dt>\n",
       "                <dd><code>pyspark-shell</code></dd>\n",
       "            </dl>\n",
       "        </div>\n",
       "        \n",
       "            </div>\n",
       "        "
      ],
      "text/plain": [
       "<pyspark.sql.session.SparkSession at 0x11172d110>"
      ]
     },
     "execution_count": 3,
     "metadata": {},
     "output_type": "execute_result"
    }
   ],
   "source": [
    "spark"
   ]
  },
  {
   "cell_type": "code",
   "execution_count": 4,
   "metadata": {},
   "outputs": [],
   "source": [
    "df = spark.read.option(\"delimiter\", \"|\").csv(\"../../../data/store_sales_sample.dat\")"
   ]
  },
  {
   "cell_type": "code",
   "execution_count": 5,
   "metadata": {},
   "outputs": [],
   "source": [
    "d = {\n",
    "    '_c11': \"ss_wholesale_cost\",\n",
    "    '_c12': \"ss_list_price\"\n",
    "}"
   ]
  },
  {
   "cell_type": "code",
   "execution_count": 6,
   "metadata": {},
   "outputs": [],
   "source": [
    "df = (df.withColumn(\"ss_wholesale_cost\", F.col(\"_c11\").cast(DoubleType()))\n",
    "         .withColumn(\"ss_list_price\", F.col(\"_c12\").cast(DoubleType()))\n",
    "         .select(\"ss_list_price\", \"ss_wholesale_cost\"))"
   ]
  },
  {
   "cell_type": "code",
   "execution_count": 7,
   "metadata": {},
   "outputs": [],
   "source": [
    "(df.write\n",
    "     .option(\"header\",\"true\")\n",
    "     .mode(\"overwrite\")\n",
    "     .parquet(\"../../../data/store_sales_sample_processed.parquet\"))"
   ]
  },
  {
   "cell_type": "code",
   "execution_count": 8,
   "metadata": {},
   "outputs": [],
   "source": [
    "column_pair = [\"ss_list_price, ss_wholesale_cost\"]\n",
    "af = [\"COUNT\", \"SUM\", \"AVG\"]"
   ]
  },
  {
   "cell_type": "code",
   "execution_count": 9,
   "metadata": {},
   "outputs": [
    {
     "name": "stdout",
     "output_type": "stream",
     "text": [
      "+-------------+-----------------+\n",
      "|ss_list_price|ss_wholesale_cost|\n",
      "+-------------+-----------------+\n",
      "|        18.71|            11.41|\n",
      "|       101.17|            63.63|\n",
      "|       137.68|            80.52|\n",
      "|         76.3|            57.37|\n",
      "|        36.86|            25.08|\n",
      "|       108.43|            93.48|\n",
      "|        15.91|            10.68|\n",
      "|       111.83|            84.72|\n",
      "|        11.77|            11.54|\n",
      "|         5.34|             4.57|\n",
      "|        54.99|            31.07|\n",
      "|        63.94|            52.41|\n",
      "|       126.61|            67.71|\n",
      "|        52.14|            27.16|\n",
      "|       158.62|            93.86|\n",
      "|        49.14|            35.87|\n",
      "|         3.83|             2.27|\n",
      "|        58.39|            53.09|\n",
      "|        19.85|            17.12|\n",
      "|        128.5|            88.02|\n",
      "+-------------+-----------------+\n",
      "only showing top 20 rows\n",
      "\n"
     ]
    }
   ],
   "source": [
    "df.show()"
   ]
  },
  {
   "cell_type": "markdown",
   "metadata": {},
   "source": [
    "## Build queries"
   ]
  },
  {
   "cell_type": "code",
   "execution_count": 10,
   "metadata": {},
   "outputs": [],
   "source": [
    "min_max = df.agg(F.min(F.col('SS_LIST_PRICE')), F.max(F.col('SS_LIST_PRICE'))).rdd.collect()[0]"
   ]
  },
  {
   "cell_type": "code",
   "execution_count": 11,
   "metadata": {},
   "outputs": [
    {
     "data": {
      "text/plain": [
       "(1.03, 199.92)"
      ]
     },
     "execution_count": 11,
     "metadata": {},
     "output_type": "execute_result"
    }
   ],
   "source": [
    "minimum, maximum = float(min_max[0]), float(min_max[1])\n",
    "minimum, maximum"
   ]
  },
  {
   "cell_type": "code",
   "execution_count": 219,
   "metadata": {},
   "outputs": [],
   "source": [
    "def gen_range(mini, maxi, percentage, number=1):\n",
    "    h = (maxi - mini) * percentage\n",
    "    l = np.random.uniform(mini, maxi, number).tolist()\n",
    "    return list(map(lambda x: (x, x + h) if x + h <= maxi else (x - h, x), l))\n",
    "\n",
    "def query_gen(agg_funs, mini, maxi, percentage):\n",
    "    agg_fun = agg_funs[np.random.randint(len(agg_funs))]\n",
    "    a, b = gen_range(mini, maxi, percentage)\n",
    "    return agg_fun, a, b"
   ]
  },
  {
   "cell_type": "code",
   "execution_count": 12,
   "metadata": {},
   "outputs": [
    {
     "ename": "NameError",
     "evalue": "name 'gen_range' is not defined",
     "output_type": "error",
     "traceback": [
      "\u001b[0;31m---------------------------------------------------------------------------\u001b[0m",
      "\u001b[0;31mNameError\u001b[0m                                 Traceback (most recent call last)",
      "\u001b[0;32m<ipython-input-12-f1b73b38f9da>\u001b[0m in \u001b[0;36m<module>\u001b[0;34m\u001b[0m\n\u001b[1;32m      4\u001b[0m \u001b[0mrange_percent\u001b[0m \u001b[0;34m=\u001b[0m \u001b[0;36m0.10\u001b[0m\u001b[0;34m\u001b[0m\u001b[0;34m\u001b[0m\u001b[0m\n\u001b[1;32m      5\u001b[0m queries = {\n\u001b[0;32m----> 6\u001b[0;31m     \u001b[0maf\u001b[0m\u001b[0;34m[\u001b[0m\u001b[0;36m0\u001b[0m\u001b[0;34m]\u001b[0m\u001b[0;34m:\u001b[0m \u001b[0mgen_range\u001b[0m\u001b[0;34m(\u001b[0m\u001b[0mmini\u001b[0m\u001b[0;34m,\u001b[0m \u001b[0mmaxi\u001b[0m\u001b[0;34m,\u001b[0m \u001b[0mrange_percent\u001b[0m\u001b[0;34m,\u001b[0m \u001b[0mqueries_per_af\u001b[0m\u001b[0;34m)\u001b[0m\u001b[0;34m,\u001b[0m\u001b[0;34m\u001b[0m\u001b[0;34m\u001b[0m\u001b[0m\n\u001b[0m\u001b[1;32m      7\u001b[0m     \u001b[0maf\u001b[0m\u001b[0;34m[\u001b[0m\u001b[0;36m1\u001b[0m\u001b[0;34m]\u001b[0m\u001b[0;34m:\u001b[0m \u001b[0mgen_range\u001b[0m\u001b[0;34m(\u001b[0m\u001b[0mmini\u001b[0m\u001b[0;34m,\u001b[0m \u001b[0mmaxi\u001b[0m\u001b[0;34m,\u001b[0m \u001b[0mrange_percent\u001b[0m\u001b[0;34m,\u001b[0m \u001b[0mqueries_per_af\u001b[0m\u001b[0;34m)\u001b[0m\u001b[0;34m,\u001b[0m\u001b[0;34m\u001b[0m\u001b[0;34m\u001b[0m\u001b[0m\n\u001b[1;32m      8\u001b[0m     \u001b[0maf\u001b[0m\u001b[0;34m[\u001b[0m\u001b[0;36m2\u001b[0m\u001b[0;34m]\u001b[0m\u001b[0;34m:\u001b[0m \u001b[0mgen_range\u001b[0m\u001b[0;34m(\u001b[0m\u001b[0mmini\u001b[0m\u001b[0;34m,\u001b[0m \u001b[0mmaxi\u001b[0m\u001b[0;34m,\u001b[0m \u001b[0mrange_percent\u001b[0m\u001b[0;34m,\u001b[0m \u001b[0mqueries_per_af\u001b[0m\u001b[0;34m)\u001b[0m\u001b[0;34m\u001b[0m\u001b[0;34m\u001b[0m\u001b[0m\n",
      "\u001b[0;31mNameError\u001b[0m: name 'gen_range' is not defined"
     ]
    }
   ],
   "source": [
    "queries_per_af = 2\n",
    "mini = minimum\n",
    "maxi = maximum\n",
    "range_percent = 0.10\n",
    "queries = {\n",
    "    af[0]: gen_range(mini, maxi, range_percent, queries_per_af),\n",
    "    af[1]: gen_range(mini, maxi, range_percent, queries_per_af),\n",
    "    af[2]: gen_range(mini, maxi, range_percent, queries_per_af)\n",
    "}\n",
    "  \n",
    "# Writing to sample.json \n",
    "json_queries = json.dumps(queries) \n",
    "with open(\"../../../experiments/sensitivity_analysis_queries.json\", \"w\") as outfile: \n",
    "    outfile.write(json_queries) "
   ]
  },
  {
   "cell_type": "markdown",
   "metadata": {},
   "source": [
    "## Query range queries"
   ]
  },
  {
   "cell_type": "code",
   "execution_count": 224,
   "metadata": {},
   "outputs": [],
   "source": [
    "queries_per_af = 5\n",
    "mini = minimum\n",
    "maxi = maximum\n",
    "#####\n",
    "range_percent = 0.001\n",
    "#####\n",
    "queries = {\n",
    "    af[0]: gen_range(mini, maxi, range_percent, queries_per_af),\n",
    "    af[1]: gen_range(mini, maxi, range_percent, queries_per_af),\n",
    "    af[2]: gen_range(mini, maxi, range_percent, queries_per_af)\n",
    "}\n",
    "  \n",
    "# Writing to sample.json \n",
    "json_queries = json.dumps(queries) \n",
    "with open(\"../../../experiments/sensitivity_analysis_queryRange{}_queries.json\".format(range_percent), \"w\") as outfile: \n",
    "    outfile.write(json_queries) "
   ]
  },
  {
   "cell_type": "markdown",
   "metadata": {},
   "source": [
    "# Query Analysis"
   ]
  },
  {
   "cell_type": "markdown",
   "metadata": {},
   "source": [
    "## Start and End"
   ]
  },
  {
   "cell_type": "code",
   "execution_count": 223,
   "metadata": {},
   "outputs": [
    {
     "data": {
      "image/png": "[encoded data removed]",
      "text/plain": [
       "<Figure size 1440x432 with 2 Axes>"
      ]
     },
     "metadata": {
      "needs_background": "light"
     },
     "output_type": "display_data"
    }
   ],
   "source": [
    "l = gen_range(mini, maxi, range_percent, 1000)\n",
    "start = list(map(lambda x: x[0], l))\n",
    "end = list(map(lambda x: x[1], l))\n",
    "fig, axes = plt.subplots(1, 2, figsize=(20, 6))\n",
    "axes[0].hist(start, bins = 20)\n",
    "axes[1].hist(end, bins=20)\n",
    "plt.show()"
   ]
  },
  {
   "cell_type": "markdown",
   "metadata": {},
   "source": [
    "## Range"
   ]
  },
  {
   "cell_type": "code",
   "execution_count": 221,
   "metadata": {},
   "outputs": [
    {
     "data": {
      "text/plain": [
       "[0.09895999999999816,\n",
       " 0.09895999999999816,\n",
       " 0.09895999999999816,\n",
       " 0.09896000000000527,\n",
       " 0.09895999999999816,\n",
       " 0.09895999999999816,\n",
       " 0.09895999999999816,\n",
       " 0.09895999999999816,\n",
       " 0.09895999999999816,\n",
       " 0.09896000000000527]"
      ]
     },
     "execution_count": 221,
     "metadata": {},
     "output_type": "execute_result"
    }
   ],
   "source": [
    "l = gen_range(mini, maxi, range_percent, 10)\n",
    "ranges = list(map(lambda x: x[1] - x[0], l))\n",
    "ranges"
   ]
  }
 ],
 "metadata": {
  "kernelspec": {
   "display_name": "Python [conda env:ada] *",
   "language": "python",
   "name": "conda-env-ada-py"
  },
  "language_info": {
   "codemirror_mode": {
    "name": "ipython",
    "version": 3
   },
   "file_extension": ".py",
   "mimetype": "text/x-python",
   "name": "python",
   "nbconvert_exporter": "python",
   "pygments_lexer": "ipython3",
   "version": "3.7.6"
  }
 },
 "nbformat": 4,
 "nbformat_minor": 4
}
